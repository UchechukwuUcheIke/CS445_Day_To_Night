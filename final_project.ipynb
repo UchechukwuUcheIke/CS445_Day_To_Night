{
 "cells": [
  {
   "cell_type": "code",
   "execution_count": 5,
   "metadata": {},
   "outputs": [],
   "source": [
    "import numpy as np\n",
    "#from imageio import imread, imwrite\n",
    "import cv2"
   ]
  },
  {
   "cell_type": "markdown",
   "metadata": {},
   "source": [
    "## Naive Method: Increase blue channel"
   ]
  },
  {
   "cell_type": "code",
   "execution_count": 8,
   "metadata": {},
   "outputs": [
    {
     "data": {
      "text/plain": [
       "True"
      ]
     },
     "execution_count": 8,
     "metadata": {},
     "output_type": "execute_result"
    }
   ],
   "source": [
    "img = cv2.imread('grainger.jpg')\n",
    "\n",
    "arr = img * np.array([0.5, 0.2, 0.1])\n",
    "arr2 = (255 * arr/arr.max()).astype(np.uint8)\n",
    "\n",
    "gamma = 2\n",
    "gamma_img = np.array(255 * (arr2/255) ** gamma, dtype=\"uint8\")\n",
    "cv2.imwrite(\"night_final.png\", gamma_img)"
   ]
  }
 ],
 "metadata": {
  "kernelspec": {
   "display_name": "Python 3",
   "language": "python",
   "name": "python3"
  },
  "language_info": {
   "codemirror_mode": {
    "name": "ipython",
    "version": 3
   },
   "file_extension": ".py",
   "mimetype": "text/x-python",
   "name": "python",
   "nbconvert_exporter": "python",
   "pygments_lexer": "ipython3",
   "version": "3.12.0"
  }
 },
 "nbformat": 4,
 "nbformat_minor": 2
}
