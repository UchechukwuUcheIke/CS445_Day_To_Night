{
 "cells": [
  {
   "cell_type": "code",
   "execution_count": 2,
   "metadata": {},
   "outputs": [],
   "source": [
    "import numpy as np\n",
    "import warnings\n",
    "import cv2"
   ]
  },
  {
   "cell_type": "markdown",
   "metadata": {},
   "source": [
    "## Preparation"
   ]
  },
  {
   "cell_type": "code",
   "execution_count": 3,
   "metadata": {},
   "outputs": [],
   "source": [
    "grainger_image = cv2.imread('grainger.jpg').astype(np.uint8)"
   ]
  },
  {
   "cell_type": "markdown",
   "metadata": {},
   "source": [
    "## Naive Method: Increase blue channel"
   ]
  },
  {
   "cell_type": "code",
   "execution_count": 4,
   "metadata": {},
   "outputs": [
    {
     "data": {
      "text/plain": [
       "True"
      ]
     },
     "execution_count": 4,
     "metadata": {},
     "output_type": "execute_result"
    }
   ],
   "source": [
    "blue_tint = np.array([0.5, 0.2, 0.1])\n",
    "# Add a blue tint ot he image\n",
    "blue_img = grainger_image * blue_tint\n",
    "\n",
    "# Normalize image\n",
    "blue_img_n = (255 * blue_img/blue_img.max()).astype(np.uint8)\n",
    "\n",
    "gamma = 2\n",
    "gamma_img = np.array(255 * (blue_img_n/255) ** gamma, dtype=\"uint8\")\n",
    "cv2.imwrite(\"night_final.png\", gamma_img)"
   ]
  },
  {
   "cell_type": "markdown",
   "metadata": {},
   "source": [
    "## Intermediate Method"
   ]
  },
  {
   "cell_type": "code",
   "execution_count": 5,
   "metadata": {},
   "outputs": [],
   "source": [
    "def turn_day_to_night(image, alpha):\n",
    "    image_width, image_height, color_channels = image.shape\n",
    "    # Convert image to XYZ color space\n",
    "    xyz_image = cv2.cvtColor(image, cv2.COLOR_BGR2XYZ)\n",
    "\n",
    "    # For the Scotopic Luminance of the image\n",
    "    x = xyz_image[:,:,0]\n",
    "    y = xyz_image[:,:,1]\n",
    "    z = xyz_image[:,:,2]\n",
    "    scotopic_luminance = y * (1.33 * (1 + (y + z)/x) - 1.68)\n",
    "    scotopic_luminance = np.clip(np.nan_to_num(scotopic_luminance), 0, 255).astype(np.uint8)\n",
    "\n",
    "    # Create a scotopic luminance image with 3 color channels\n",
    "    scotopic_lum_img = np.zeros((image_width, image_height, color_channels)).astype(np.uint8)\n",
    "    blue = np.array([.9, .5, .5]).astype(np.float64)\n",
    "    k = 1\n",
    "    for c in range(color_channels):\n",
    "        scotopic_lum_img[:,:,c] = scotopic_luminance * blue[c] * k\n",
    "\n",
    "    # Blend original and scotopic images pixel by pixel\n",
    "    night_image = image * (1 - alpha) + scotopic_lum_img * alpha\n",
    "\n",
    "    # Adjust contrast\n",
    "    night_image = cv2.convertScaleAbs(night_image, alpha=0.8, beta=0)\n",
    "\n",
    "    # Adding Gaussian blur to image\n",
    "    kernel_size = 5\n",
    "    night_image = cv2.GaussianBlur(night_image, (kernel_size, kernel_size), 2)\n",
    "\n",
    "    #Adding noise to image\n",
    "    noise_filter = np.zeros((image_width, image_height, color_channels), np.uint8)\n",
    "    cv2.randu(noise_filter,(0),(10))\n",
    "    \n",
    "    result_image = night_image + noise_filter\n",
    "    return result_image"
   ]
  },
  {
   "cell_type": "code",
   "execution_count": 6,
   "metadata": {},
   "outputs": [
    {
     "data": {
      "text/plain": [
       "True"
      ]
     },
     "execution_count": 6,
     "metadata": {},
     "output_type": "execute_result"
    }
   ],
   "source": [
    "warnings.filterwarnings('ignore')\n",
    "\n",
    "alpha = 0.7\n",
    "night_image = turn_day_to_night(grainger_image, alpha)\n",
    "cv2.imwrite(\"night_final.png\", night_image)"
   ]
  },
  {
   "cell_type": "markdown",
   "metadata": {},
   "source": [
    "## Advanced Method: Remove illumination, decrease exposure, relight with night illuminants, and add noise"
   ]
  },
  {
   "cell_type": "code",
   "execution_count": 7,
   "metadata": {},
   "outputs": [],
   "source": [
    "''' We begin the Advanced Method by taking our source image as a demosaiced day image'''\n",
    "I_day = grainger_image"
   ]
  },
  {
   "cell_type": "markdown",
   "metadata": {},
   "source": [
    "Normalized image:\n",
    "$$ \\mathbf{I}_n = (\\mathbf{I}_{day}-b_l) / (w_l-b_l) $$"
   ]
  },
  {
   "cell_type": "code",
   "execution_count": 8,
   "metadata": {},
   "outputs": [
    {
     "data": {
      "text/plain": [
       "True"
      ]
     },
     "execution_count": 8,
     "metadata": {},
     "output_type": "execute_result"
    }
   ],
   "source": [
    "# The white level is the brightest pixel value in the image; The black level is the darkest pixel in the image\n",
    "wl = np.max(np.sum(I_day, axis=2))\n",
    "bl = np.min(np.sum(I_day, axis=2))\n",
    "\n",
    "I_n = (I_day - bl) / (wl - bl)\n",
    "\n",
    "cv2.imwrite(\"I_n.png\", I_n * 255.0)"
   ]
  },
  {
   "cell_type": "markdown",
   "metadata": {},
   "source": [
    "White-balanced image:\n",
    "$$ \\mathbf{I}_w = \\mathbf{I}_n\\mathbf{L}_{day} $$\n",
    "where\n",
    "$$ {L}_{day} = diag(\\frac{1}{b}, \\frac{1}{g}, \\frac{1}{g}, \\frac{1}{r}) $$"
   ]
  },
  {
   "cell_type": "code",
   "execution_count": 9,
   "metadata": {},
   "outputs": [
    {
     "data": {
      "text/plain": [
       "True"
      ]
     },
     "execution_count": 9,
     "metadata": {},
     "output_type": "execute_result"
    }
   ],
   "source": [
    "# As our image is a numpy array, we normalize the image using numpy functions for efficiency\n",
    "\n",
    "# https://chat.openai.com/share/f90475c2-2156-42c5-afba-2b8a22fee9f1\n",
    "L_day = np.identity(I_n.shape[-1])\n",
    "I_w = I_n @ L_day\n",
    "\n",
    "I_w = np.clip((I_n*1.0 / I_n.mean(axis=(0,1))), 0, 1)\n",
    "cv2.imwrite(\"I_w.png\", I_w * 255)"
   ]
  },
  {
   "cell_type": "markdown",
   "metadata": {},
   "source": [
    "### Lowering brightness"
   ]
  },
  {
   "cell_type": "markdown",
   "metadata": {},
   "source": [
    "`D`: dictionary for the normalized mean intensity value of each Bayer image\n",
    "(could just make list with index as key for the image)"
   ]
  },
  {
   "cell_type": "code",
   "execution_count": 10,
   "metadata": {},
   "outputs": [
    {
     "name": "stdout",
     "output_type": "stream",
     "text": [
      "0.3\n"
     ]
    },
    {
     "data": {
      "text/plain": [
       "True"
      ]
     },
     "execution_count": 10,
     "metadata": {},
     "output_type": "execute_result"
    }
   ],
   "source": [
    "nighttime_images = np.array([I_day])\n",
    "\n",
    "# contains normalized mean intensity values of each Bayer image\n",
    "D = np.array([np.mean(img) / np.max(img) for img in nighttime_images])\n",
    "\n",
    "# Hardcoded global scale factor for demonstration purposes\n",
    "global_scale_factor_d = 0.3 #np.random.choice(D) \n",
    "print(global_scale_factor_d)\n",
    "\n",
    "I_e = I_w * global_scale_factor_d\n",
    "cv2.imwrite(\"I_e.png\", I_e * 255)\n"
   ]
  },
  {
   "cell_type": "markdown",
   "metadata": {},
   "source": [
    "### Adding illuminants"
   ]
  },
  {
   "cell_type": "markdown",
   "metadata": {},
   "source": [
    "`L`: dictionary for nighttime illuminants"
   ]
  },
  {
   "cell_type": "code",
   "execution_count": 11,
   "metadata": {},
   "outputs": [],
   "source": [
    "# We first define a function for creating gaussian filters\n",
    "\n",
    "# Made with help from chatgpt\n",
    "def generate_2d_gaussian_array(shape, sigma=1.0, center=None):\n",
    "    \"\"\"\n",
    "    Generate a 2-D Gaussian array.\n",
    "\n",
    "    Parameters:\n",
    "        shape (tuple): Shape of the output array.\n",
    "        sigma (float): Standard deviation of the Gaussian filter.\n",
    "        center (tuple): Center of the Gaussian filter. Default is None, which sets the center to the center of the array.\n",
    "\n",
    "    Returns:\n",
    "        numpy.ndarray: 2-D Gaussian array with the specified shape.\n",
    "    \"\"\"\n",
    "    if center is None:\n",
    "        center = (shape[0] // 2, shape[1] // 2)\n",
    "\n",
    "    x, y = np.meshgrid(np.arange(shape[0]), np.arange(shape[1]))\n",
    "    x -= center[0]\n",
    "    y -= center[1]\n",
    "\n",
    "    exponent = -(x**2 + y**2) / (2 * sigma**2)\n",
    "    gaussian_array = np.exp(exponent) / (2 * np.pi * sigma**2)\n",
    "\n",
    "    return gaussian_array"
   ]
  },
  {
   "cell_type": "code",
   "execution_count": 12,
   "metadata": {},
   "outputs": [
    {
     "data": {
      "text/plain": [
       "True"
      ]
     },
     "execution_count": 12,
     "metadata": {},
     "output_type": "execute_result"
    }
   ],
   "source": [
    "i_r = np.zeros(I_e.shape)\n",
    "\n",
    "# Define the nighttime illuminants\n",
    "night_time_illuminant = [[.5, .3, .3], [0, 1, 1], [0, 1, 1]]\n",
    "\n",
    "# Add masked illuminants to result image\n",
    "M = generate_2d_gaussian_array((1800,1200),sigma=(500))\n",
    "\n",
    "i_r[:,:,0] += (I_e * night_time_illuminant[0])[:,:,0] * 2 \n",
    "i_r[:,:,1] += (I_e * night_time_illuminant[0])[:,:,1] * 2\n",
    "i_r[:,:,2] += (I_e * night_time_illuminant[0])[:,:,2] * 2\n",
    "\n",
    "\n",
    "M = generate_2d_gaussian_array((1800,1200),sigma=(150), center=(200,600))\n",
    "i_r[:,:,0] += (I_e * night_time_illuminant[1])[:,:,0]* M * 3e4\n",
    "i_r[:,:,1] += (I_e * night_time_illuminant[1])[:,:,1] * M * 3e4\n",
    "i_r[:,:,2] += (I_e * night_time_illuminant[1])[:,:,2] * M * 3e4\n",
    "\n",
    "M = generate_2d_gaussian_array((1800,1200),sigma=(150), center=(1600,600))\n",
    "i_r[:,:,0] += (I_e * night_time_illuminant[2])[:,:,0]* M * 3e4\n",
    "i_r[:,:,1] += (I_e * night_time_illuminant[2])[:,:,1] * M * 3e4\n",
    "i_r[:,:,2] += (I_e * night_time_illuminant[2])[:,:,2] * M * 3e4\n",
    "\n",
    "M = generate_2d_gaussian_array((1800,1200),sigma=(150), center=(900,600))\n",
    "i_r[:,:,0] += (I_e * night_time_illuminant[2])[:,:,0]* M * 3e4\n",
    "i_r[:,:,1] += (I_e * night_time_illuminant[2])[:,:,1] * M * 3e4\n",
    "i_r[:,:,2] += (I_e * night_time_illuminant[2])[:,:,2] * M * 3e4\n",
    "\n",
    "\n",
    "cv2.imwrite(\"I_r.png\", (i_r * 255))"
   ]
  },
  {
   "cell_type": "code",
   "execution_count": 13,
   "metadata": {},
   "outputs": [
    {
     "data": {
      "text/plain": [
       "True"
      ]
     },
     "execution_count": 13,
     "metadata": {},
     "output_type": "execute_result"
    }
   ],
   "source": [
    "i_night = i_r * (wl - bl) + bl\n",
    "cv2.imwrite(\"I_night.png\", i_night)"
   ]
  },
  {
   "cell_type": "markdown",
   "metadata": {},
   "source": [
    "### Adding noise"
   ]
  },
  {
   "cell_type": "code",
   "execution_count": 14,
   "metadata": {},
   "outputs": [
    {
     "data": {
      "text/plain": [
       "True"
      ]
     },
     "execution_count": 14,
     "metadata": {},
     "output_type": "execute_result"
    }
   ],
   "source": [
    "noise = np.random.normal(0,5, i_r.shape)\n",
    "cv2.imwrite(\"I_noise.png\", (i_night * 255) + noise)"
   ]
  }
 ],
 "metadata": {
  "kernelspec": {
   "display_name": "Python 3",
   "language": "python",
   "name": "python3"
  },
  "language_info": {
   "codemirror_mode": {
    "name": "ipython",
    "version": 3
   },
   "file_extension": ".py",
   "mimetype": "text/x-python",
   "name": "python",
   "nbconvert_exporter": "python",
   "pygments_lexer": "ipython3",
   "version": "3.12.0"
  }
 },
 "nbformat": 4,
 "nbformat_minor": 2
}
