{
 "cells": [
  {
   "cell_type": "code",
   "execution_count": 13,
   "metadata": {},
   "outputs": [],
   "source": [
    "import numpy as np\n",
    "#from imageio import imread, imwrite\n",
    "import cv2\n",
    "# from matplotlib,pyplot as plt # not working for me"
   ]
  },
  {
   "cell_type": "markdown",
   "metadata": {},
   "source": [
    "## Naive Method: Increase blue channel"
   ]
  },
  {
   "cell_type": "code",
   "execution_count": 14,
   "metadata": {},
   "outputs": [
    {
     "data": {
      "text/plain": [
       "True"
      ]
     },
     "execution_count": 14,
     "metadata": {},
     "output_type": "execute_result"
    }
   ],
   "source": [
    "image = cv2.imread('grainger.jpg')\n",
    "\n",
    "arr = image * np.array([0.5, 0.2, 0.1])\n",
    "arr2 = (255 * arr/arr.max()).astype(np.uint8)\n",
    "\n",
    "gamma = 2\n",
    "gamma_img = np.array(255 * (arr2/255) ** gamma, dtype=\"uint8\")\n",
    "cv2.imwrite(\"night_final.png\", gamma_img)"
   ]
  },
  {
   "cell_type": "markdown",
   "metadata": {},
   "source": [
    "## Advanced Method: Remove illumination, decrease exposure, relight with night illuminants, and add noise"
   ]
  },
  {
   "cell_type": "markdown",
   "metadata": {},
   "source": [
    "### Remove illumination"
   ]
  },
  {
   "cell_type": "markdown",
   "metadata": {},
   "source": [
    "Stacked RGGB Bayer image:\n",
    "$$ \\mathbf{I}_{day} \\in R^{\\frac{H}{2} \\times \\frac{W}{2} \\times 4} $$"
   ]
  },
  {
   "cell_type": "code",
   "execution_count": 15,
   "metadata": {},
   "outputs": [],
   "source": [
    "def bggr_to_bgr(bggr):\n",
    "    bgr_img = np.zeros((bggr.shape[0], bggr.shape[1], 3))\n",
    "    bgr_img[:,:,0] = bggr[:,:,0]\n",
    "    bgr_img[:,:,1] = (bggr[:,:,1] + bggr[:,:,2]) / 2\n",
    "    bgr_img[:,:,2] = bggr[:,:,3]\n",
    "    return bgr_img\n"
   ]
  },
  {
   "cell_type": "code",
   "execution_count": 16,
   "metadata": {},
   "outputs": [
    {
     "name": "stdout",
     "output_type": "stream",
     "text": [
      "(1200, 1800, 4)\n",
      "[[[240. 226. 226. 220.]\n",
      "  [240. 226. 226. 220.]\n",
      "  [240. 226. 226. 220.]\n",
      "  ...\n",
      "  [246. 246. 246. 246.]\n",
      "  [246. 246. 246. 246.]\n",
      "  [246. 246. 246. 246.]]\n",
      "\n",
      " [[240. 226. 226. 220.]\n",
      "  [240. 226. 226. 220.]\n",
      "  [240. 226. 226. 220.]\n",
      "  ...\n",
      "  [246. 246. 246. 246.]\n",
      "  [246. 246. 246. 246.]\n",
      "  [246. 246. 246. 246.]]\n",
      "\n",
      " [[240. 226. 226. 220.]\n",
      "  [240. 226. 226. 220.]\n",
      "  [240. 226. 226. 220.]\n",
      "  ...\n",
      "  [246. 246. 246. 246.]\n",
      "  [246. 246. 246. 246.]\n",
      "  [246. 246. 246. 246.]]\n",
      "\n",
      " ...\n",
      "\n",
      " [[ 51.  98.  98.  89.]\n",
      "  [ 50.  97.  97.  88.]\n",
      "  [ 34.  81.  81.  72.]\n",
      "  ...\n",
      "  [ 50.  96.  96.  83.]\n",
      "  [ 40.  88.  88.  76.]\n",
      "  [ 24.  73.  73.  59.]]\n",
      "\n",
      " [[ 49.  96.  96.  87.]\n",
      "  [ 31.  78.  78.  69.]\n",
      "  [ 35.  82.  82.  73.]\n",
      "  ...\n",
      "  [ 38.  85.  85.  69.]\n",
      "  [ 34.  83.  83.  69.]\n",
      "  [ 31.  80.  80.  64.]]\n",
      "\n",
      " [[ 52.  99.  99.  90.]\n",
      "  [ 30.  77.  77.  68.]\n",
      "  [ 49.  96.  96.  87.]\n",
      "  ...\n",
      "  [ 28.  75.  75.  59.]\n",
      "  [ 28.  75.  75.  59.]\n",
      "  [ 37.  86.  86.  70.]]]\n"
     ]
    }
   ],
   "source": [
    "img = cv2.imread('grainger.jpg')\n",
    "n_channels = 4\n",
    "I_day = np.zeros((img.shape[0], img.shape[1], n_channels))\n",
    "I_day[:,:,0] = img[:,:,0]\n",
    "I_day[:,:,1] = img[:,:,1]\n",
    "I_day[:,:,2] = img[:,:,1].copy()\n",
    "I_day[:,:,3] = img[:,:,2]\n",
    "print(I_day.shape)\n",
    "print(I_day)\n"
   ]
  },
  {
   "cell_type": "code",
   "execution_count": 17,
   "metadata": {},
   "outputs": [],
   "source": [
    "# The process begins with a \"minimally processed Bayer image recorded by the camera sensor\".\n",
    "# We could synthesize the effect of a raw Bayer image with the code below,\n",
    "# then interpolate the pixel values (or downsample, but I suppose it's arbitrary). This is why I think their I_day is H/2 x W/2\n",
    "# OR this may all be useless and we should just contain with the normal rgb image turned into rggb\n",
    "\n",
    "# Created with the help of ChatGPT.\n",
    "# def apply_bayer_pattern(image):\n",
    "#     print(image.shape)\n",
    "#     # Create a blank Bayer pattern image with the same dimensions as the RGB image\n",
    "#     # bayer_image = np.zeros(image.shape * 2)\n",
    "\n",
    "#     new_height, new_width = image.shape[0] * 2, image.shape[1] * 2\n",
    "#     bayer = np.zeros((new_height, new_width))\n",
    "#     bayer[0::2, 0::2] = image[:, :, 0]\n",
    "#     bayer[0::2, 1::2] = image[:, :, 1]\n",
    "#     bayer[1::2, 0::2] = image[:, :, 1]\n",
    "#     bayer[1::2, 1::2] = image[:, :, 2]\n",
    "\n",
    "#     return bayer\n",
    "\n",
    "# I_day = apply_bayer_pattern(img)\n",
    "# cv2.imwrite('bayer_image.jpg', I_day)\n"
   ]
  },
  {
   "cell_type": "markdown",
   "metadata": {},
   "source": [
    "Normalized image:\n",
    "$$ \\mathbf{I}_n = (\\mathbf{I}_{day}-b_l) / (w_l-b_l) $$"
   ]
  },
  {
   "cell_type": "code",
   "execution_count": 18,
   "metadata": {},
   "outputs": [
    {
     "data": {
      "text/plain": [
       "True"
      ]
     },
     "execution_count": 18,
     "metadata": {},
     "output_type": "execute_result"
    }
   ],
   "source": [
    "I_day = img\n",
    "print(I_day.shape)\n",
    "# wl = np.mean(np.max(img, axis=(0,1)))\n",
    "# bl = np.mean(np.min(img, axis=(0,1)))\n",
    "wl = np.max(np.sum(I_day, axis=2))\n",
    "bl = np.min(np.sum(I_day, axis=2))\n",
    "\n",
    "I_n = (I_day - bl) / (wl - bl)\n",
    "print(I_n)\n",
    "\n",
    "# plt.figure()\n",
    "# plt.imshow(I_n)\n",
    "cv2.imwrite(\"I_n.png\", I_n * 255)\n",
    "print(I_n)"
   ]
  },
  {
   "cell_type": "markdown",
   "metadata": {},
   "source": [
    "White-balanced image:\n",
    "$$ \\mathbf{I}_w = \\mathbf{I}_n\\mathbf{L}_{day} $$\n",
    "where\n",
    "$$ {L}_{day} = diag(\\frac{1}{b}, \\frac{1}{g}, \\frac{1}{g}, \\frac{1}{r}) $$"
   ]
  },
  {
   "cell_type": "code",
   "execution_count": 19,
   "metadata": {},
   "outputs": [
    {
     "ename": "IndexError",
     "evalue": "index 3 is out of bounds for axis 2 with size 3",
     "output_type": "error",
     "traceback": [
      "\u001b[1;31m---------------------------------------------------------------------------\u001b[0m",
      "\u001b[1;31mIndexError\u001b[0m                                Traceback (most recent call last)",
      "Cell \u001b[1;32mIn[19], line 19\u001b[0m\n\u001b[0;32m     16\u001b[0m I_w \u001b[38;5;241m=\u001b[39m I_n \u001b[38;5;241m@\u001b[39m L_day\n\u001b[0;32m     17\u001b[0m cv2\u001b[38;5;241m.\u001b[39mimwrite(\u001b[38;5;124m'\u001b[39m\u001b[38;5;124mI_w.jpg\u001b[39m\u001b[38;5;124m'\u001b[39m, I_w \u001b[38;5;241m*\u001b[39m \u001b[38;5;241m255\u001b[39m)\n\u001b[1;32m---> 19\u001b[0m bgr_I_w \u001b[38;5;241m=\u001b[39m \u001b[43mbggr_to_bgr\u001b[49m\u001b[43m(\u001b[49m\u001b[43mI_w\u001b[49m\u001b[43m)\u001b[49m\n\u001b[0;32m     20\u001b[0m cv2\u001b[38;5;241m.\u001b[39mimwrite(\u001b[38;5;124m'\u001b[39m\u001b[38;5;124mbgr_I_w.jpg\u001b[39m\u001b[38;5;124m'\u001b[39m, bgr_I_w \u001b[38;5;241m*\u001b[39m \u001b[38;5;241m255\u001b[39m)\n",
      "Cell \u001b[1;32mIn[15], line 5\u001b[0m, in \u001b[0;36mbggr_to_bgr\u001b[1;34m(bggr)\u001b[0m\n\u001b[0;32m      3\u001b[0m bgr_img[:,:,\u001b[38;5;241m0\u001b[39m] \u001b[38;5;241m=\u001b[39m bggr[:,:,\u001b[38;5;241m0\u001b[39m]\n\u001b[0;32m      4\u001b[0m bgr_img[:,:,\u001b[38;5;241m1\u001b[39m] \u001b[38;5;241m=\u001b[39m (bggr[:,:,\u001b[38;5;241m1\u001b[39m] \u001b[38;5;241m+\u001b[39m bggr[:,:,\u001b[38;5;241m2\u001b[39m]) \u001b[38;5;241m/\u001b[39m \u001b[38;5;241m2\u001b[39m\n\u001b[1;32m----> 5\u001b[0m bgr_img[:,:,\u001b[38;5;241m2\u001b[39m] \u001b[38;5;241m=\u001b[39m \u001b[43mbggr\u001b[49m\u001b[43m[\u001b[49m\u001b[43m:\u001b[49m\u001b[43m,\u001b[49m\u001b[43m:\u001b[49m\u001b[43m,\u001b[49m\u001b[38;5;241;43m3\u001b[39;49m\u001b[43m]\u001b[49m\n\u001b[0;32m      6\u001b[0m \u001b[38;5;28;01mreturn\u001b[39;00m bgr_img\n",
      "\u001b[1;31mIndexError\u001b[0m: index 3 is out of bounds for axis 2 with size 3"
     ]
    }
   ],
   "source": [
    "print(I_n.shape)\n",
    "\n",
    "for c in range(I_n.shape[-1]):\n",
    "    pass\n",
    "\n",
    "# https://chat.openai.com/share/f90475c2-2156-42c5-afba-2b8a22fee9f1\n",
    "\n",
    "L_day = np.identity(I_n.shape[-1])\n",
    "I_w = I_n @ L_day\n",
    "\n",
    "I_w = np.clip((I_n*1.0 / I_n.mean(axis=(0,1))), 0, 1)\n",
    "cv2.imwrite(\"I_w.png\", I_w * 255)\n",
    "\n",
    "# We might just have to come up with some values for r, g, b to be the average shift of intensities to color balance to neutral\n",
    "# Or create a simple algorithm"
   ]
  },
  {
   "cell_type": "markdown",
   "metadata": {},
   "source": [
    "### Lowering brightness"
   ]
  },
  {
   "cell_type": "markdown",
   "metadata": {},
   "source": [
    "`D`: dictionary for the normalized mean intensity value of each Bayer image\n",
    "(could just make list with index as key for the image)"
   ]
  },
  {
   "cell_type": "code",
   "execution_count": null,
   "metadata": {},
   "outputs": [
    {
     "name": "stdout",
     "output_type": "stream",
     "text": [
      "(1, 1200, 1800, 4)\n",
      "0.5865332874909223\n"
     ]
    }
   ],
   "source": [
    "# I believe bayer_images should have a few nighttime images, which would make D have normalized means of random nighttime photos\n",
    "bayer_images = np.array([I_day])\n",
    "print(bayer_images.shape)\n",
    "\n",
    "# contains normalized mean intensity values of each Bayer image\n",
    "D = np.array([np.mean(img) / np.max(img) for img in bayer_images])\n",
    "\n",
    "global_scale_factor_d = 0.3 #np.random.choice(D)\n",
    "print(global_scale_factor_d)\n",
    "\n",
    "I_e = I_w * global_scale_factor_d\n",
    "cv2.imwrite(\"I_e.png\", I_e * 255)\n"
   ]
  },
  {
   "cell_type": "markdown",
   "metadata": {},
   "source": [
    "### Adding illuminants"
   ]
  },
  {
   "cell_type": "markdown",
   "metadata": {},
   "source": [
    "`L`: dictionary for nighttime illuminants"
   ]
  },
  {
   "cell_type": "code",
   "execution_count": null,
   "metadata": {},
   "outputs": [
    {
     "name": "stdout",
     "output_type": "stream",
     "text": [
      "(5, 2)\n",
      "[7.12364326e-06 8.25754705e-06] (2,)\n",
      "[[ 2.96163521e-11 -1.12806656e-12]\n",
      " [-1.12806656e-12  4.57012992e-11]] (2, 2)\n"
     ]
    }
   ],
   "source": [
    "import numpy as np\n",
    "\n",
    "def generate_2d_gaussian_array(shape, sigma=1.0, center=None):\n",
    "    \"\"\"\n",
    "    Generate a 2-D Gaussian array.\n",
    "\n",
    "    Parameters:\n",
    "        shape (tuple): Shape of the output array.\n",
    "        sigma (float): Standard deviation of the Gaussian filter.\n",
    "        center (tuple): Center of the Gaussian filter. Default is None, which sets the center to the center of the array.\n",
    "\n",
    "    Returns:\n",
    "        numpy.ndarray: 2-D Gaussian array with the specified shape.\n",
    "    \"\"\"\n",
    "    if center is None:\n",
    "        center = (shape[0] // 2, shape[1] // 2)\n",
    "\n",
    "    x, y = np.meshgrid(np.arange(shape[0]), np.arange(shape[1]))\n",
    "    x -= center[0]\n",
    "    y -= center[1]\n",
    "\n",
    "    exponent = -(x**2 + y**2) / (2 * sigma**2)\n",
    "    gaussian_array = np.exp(exponent) / (2 * np.pi * sigma**2)\n",
    "\n",
    "    return gaussian_array"
   ]
  },
  {
   "cell_type": "markdown",
   "metadata": {},
   "source": []
  },
  {
   "cell_type": "code",
   "execution_count": null,
   "metadata": {},
   "outputs": [],
   "source": [
    "i_r = np.zeros(I_e.shape)\n",
    "\n",
    "night_time_illuminant = [[.5, .3, .3], [0, 1, 1], [0, 1, 1]]\n",
    "\n",
    "\n",
    "M = generate_2d_gaussian_array((1800,1200),sigma=(500))\n",
    "\n",
    "i_r[:,:,0] += (I_e * night_time_illuminant[0])[:,:,0] * 2 \n",
    "i_r[:,:,1] += (I_e * night_time_illuminant[0])[:,:,1] * 2\n",
    "i_r[:,:,2] += (I_e * night_time_illuminant[0])[:,:,2] * 2\n",
    "\n",
    "\n",
    "M = generate_2d_gaussian_array((1800,1200),sigma=(150), center=(200,600))\n",
    "i_r[:,:,0] += (I_e * night_time_illuminant[1])[:,:,0]* M * 3e4\n",
    "i_r[:,:,1] += (I_e * night_time_illuminant[1])[:,:,1] * M * 3e4\n",
    "i_r[:,:,2] += (I_e * night_time_illuminant[1])[:,:,2] * M * 3e4\n",
    "\n",
    "M = generate_2d_gaussian_array((1800,1200),sigma=(150), center=(1600,600))\n",
    "i_r[:,:,0] += (I_e * night_time_illuminant[2])[:,:,0]* M * 3e4\n",
    "i_r[:,:,1] += (I_e * night_time_illuminant[2])[:,:,1] * M * 3e4\n",
    "i_r[:,:,2] += (I_e * night_time_illuminant[2])[:,:,2] * M * 3e4\n",
    "\n",
    "M = generate_2d_gaussian_array((1800,1200),sigma=(150), center=(900,600))\n",
    "i_r[:,:,0] += (I_e * night_time_illuminant[2])[:,:,0]* M * 3e4\n",
    "i_r[:,:,1] += (I_e * night_time_illuminant[2])[:,:,1] * M * 3e4\n",
    "i_r[:,:,2] += (I_e * night_time_illuminant[2])[:,:,2] * M * 3e4\n",
    "print(M)\n",
    "print(np.max(M))\n",
    "print(np.min(M))\n",
    "#print((I_e * night_time_illuminant)[:,:,2] )\n",
    "noise = np.random.normal(0,5, i_r.shape)\n",
    "cv2.imwrite(\"I_r.png\", (i_r * 255) + noise)"
   ]
  },
  {
   "cell_type": "code",
   "execution_count": null,
   "metadata": {},
   "outputs": [
    {
     "ename": "ValueError",
     "evalue": "operands could not be broadcast together with shapes (1200,1800,4) (3,) ",
     "output_type": "error",
     "traceback": [
      "\u001b[1;31m---------------------------------------------------------------------------\u001b[0m",
      "\u001b[1;31mValueError\u001b[0m                                Traceback (most recent call last)",
      "Cell \u001b[1;32mIn[12], line 8\u001b[0m\n\u001b[0;32m      3\u001b[0m night_time_illuminant \u001b[38;5;241m=\u001b[39m [[\u001b[38;5;241m.5\u001b[39m, \u001b[38;5;241m.3\u001b[39m, \u001b[38;5;241m.3\u001b[39m], [\u001b[38;5;241m0\u001b[39m, \u001b[38;5;241m1\u001b[39m, \u001b[38;5;241m1\u001b[39m], [\u001b[38;5;241m0\u001b[39m, \u001b[38;5;241m1\u001b[39m, \u001b[38;5;241m1\u001b[39m]]\n\u001b[0;32m      6\u001b[0m M \u001b[38;5;241m=\u001b[39m generate_2d_gaussian_array((\u001b[38;5;241m1800\u001b[39m,\u001b[38;5;241m1200\u001b[39m),sigma\u001b[38;5;241m=\u001b[39m(\u001b[38;5;241m500\u001b[39m))\n\u001b[1;32m----> 8\u001b[0m i_r[:,:,\u001b[38;5;241m0\u001b[39m] \u001b[38;5;241m+\u001b[39m\u001b[38;5;241m=\u001b[39m (\u001b[43mI_e\u001b[49m\u001b[43m \u001b[49m\u001b[38;5;241;43m*\u001b[39;49m\u001b[43m \u001b[49m\u001b[43mnight_time_illuminant\u001b[49m\u001b[43m[\u001b[49m\u001b[38;5;241;43m0\u001b[39;49m\u001b[43m]\u001b[49m)[:,:,\u001b[38;5;241m0\u001b[39m] \u001b[38;5;241m*\u001b[39m \u001b[38;5;241m2\u001b[39m \n\u001b[0;32m      9\u001b[0m i_r[:,:,\u001b[38;5;241m1\u001b[39m] \u001b[38;5;241m+\u001b[39m\u001b[38;5;241m=\u001b[39m (I_e \u001b[38;5;241m*\u001b[39m night_time_illuminant[\u001b[38;5;241m0\u001b[39m])[:,:,\u001b[38;5;241m1\u001b[39m] \u001b[38;5;241m*\u001b[39m \u001b[38;5;241m2\u001b[39m\n\u001b[0;32m     10\u001b[0m i_r[:,:,\u001b[38;5;241m2\u001b[39m] \u001b[38;5;241m+\u001b[39m\u001b[38;5;241m=\u001b[39m (I_e \u001b[38;5;241m*\u001b[39m night_time_illuminant[\u001b[38;5;241m0\u001b[39m])[:,:,\u001b[38;5;241m2\u001b[39m] \u001b[38;5;241m*\u001b[39m \u001b[38;5;241m2\u001b[39m\n",
      "\u001b[1;31mValueError\u001b[0m: operands could not be broadcast together with shapes (1200,1800,4) (3,) "
     ]
    }
   ],
   "source": [
    "i_night = i_r * (wl - bl) + bl\n",
    "cv2.imwrite(\"I_night.png\", i_night)"
   ]
  },
  {
   "cell_type": "code",
   "execution_count": null,
   "metadata": {},
   "outputs": [],
   "source": [
    "i_night = i_r * (wl - bl) + bl\n",
    "cv2.imwrite(\"I_night.png\", i_night)"
   ]
  },
  {
   "cell_type": "markdown",
   "metadata": {},
   "source": [
    "### Adding noise"
   ]
  },
  {
   "cell_type": "markdown",
   "metadata": {},
   "source": [
    "### Final Result"
   ]
  }
 ],
 "metadata": {
  "kernelspec": {
   "display_name": "Python 3",
   "language": "python",
   "name": "python3"
  },
  "language_info": {
   "codemirror_mode": {
    "name": "ipython",
    "version": 3
   },
   "file_extension": ".py",
   "mimetype": "text/x-python",
   "name": "python",
   "nbconvert_exporter": "python",
   "pygments_lexer": "ipython3",
   "version": "3.12.0"
  }
 },
 "nbformat": 4,
 "nbformat_minor": 2
}
