{
 "cells": [
  {
   "cell_type": "code",
   "execution_count": 213,
   "metadata": {},
   "outputs": [],
   "source": [
    "import numpy as np\n",
    "import warnings\n",
    "import cv2"
   ]
  },
  {
   "cell_type": "markdown",
   "metadata": {},
   "source": [
    "## Preparation\n"
   ]
  },
  {
   "cell_type": "code",
   "execution_count": 98,
   "metadata": {},
   "outputs": [],
   "source": [
    "grainger_image = cv2.imread('grainger.jpg').astype(np.uint8)"
   ]
  },
  {
   "cell_type": "markdown",
   "metadata": {},
   "source": [
    "## Naive Method: Increase blue channel"
   ]
  },
  {
   "cell_type": "code",
   "execution_count": 4,
   "metadata": {},
   "outputs": [
    {
     "data": {
      "text/plain": [
       "True"
      ]
     },
     "execution_count": 4,
     "metadata": {},
     "output_type": "execute_result"
    }
   ],
   "source": [
    "arr = grainger_image * np.array([0.5, 0.2, 0.1])\n",
    "arr2 = (255 * arr/arr.max()).astype(np.uint8)\n",
    "\n",
    "gamma = 2\n",
    "gamma_img = np.array(255 * (arr2/255) ** gamma, dtype=\"uint8\")\n",
    "#window_name = 'image'\n",
    "#cv2.imshow(window_name, gamma_img)\n",
    "cv2.imwrite(\"night_final.png\", gamma_img)"
   ]
  },
  {
   "cell_type": "markdown",
   "metadata": {},
   "source": [
    "## Intermediate Method"
   ]
  },
  {
   "cell_type": "code",
   "execution_count": 210,
   "metadata": {},
   "outputs": [],
   "source": [
    "def turn_day_to_night(image, alpha):\n",
    "    image_width, image_height, color_channels = image.shape\n",
    "    # Convert image to XYZ color space\n",
    "    xyz_image = cv2.cvtColor(image, cv2.COLOR_BGR2XYZ)\n",
    "\n",
    "    # For the Scotopic Luminance of the image\n",
    "    x = xyz_image[:,:,0]\n",
    "    y = xyz_image[:,:,1]\n",
    "    z = xyz_image[:,:,2]\n",
    "    scotopic_luminance = y * (1.33 * (1 + (y + z)/x) - 1.68)\n",
    "    scotopic_luminance = np.clip(np.nan_to_num(scotopic_luminance), 0, 255).astype(np.uint8)\n",
    "\n",
    "    # Create a scotopic luminance image with 3 color channels\n",
    "    scotopic_lum_img = np.zeros((image_width, image_height, color_channels)).astype(np.uint8)\n",
    "    blue = np.array([.9, .5, .5]).astype(np.float64)\n",
    "    k = 1\n",
    "    for c in range(color_channels):\n",
    "        scotopic_lum_img[:,:,c] = scotopic_luminance * blue[c] * k\n",
    "\n",
    "    # Blend original and scotopic images pixel by pixel\n",
    "    night_image = image * (1 - alpha) + scotopic_lum_img * alpha\n",
    "\n",
    "    # Adjust contrast\n",
    "    night_image = cv2.convertScaleAbs(night_image, alpha=0.8, beta=0)\n",
    "\n",
    "    # Adding Gaussian blur to image\n",
    "    kernel_size = 5\n",
    "    night_image = cv2.GaussianBlur(night_image, (kernel_size, kernel_size), 2)\n",
    "\n",
    "    #Adding noise to image\n",
    "    noise_filter = np.zeros((image_width, image_height, color_channels), np.uint8)\n",
    "    cv2.randu(noise_filter,(0),(10))\n",
    "    \n",
    "    result_image = night_image + noise_filter\n",
    "    return result_image\n",
    "    "
   ]
  },
  {
   "cell_type": "code",
   "execution_count": 214,
   "metadata": {},
   "outputs": [
    {
     "data": {
      "text/plain": [
       "True"
      ]
     },
     "execution_count": 214,
     "metadata": {},
     "output_type": "execute_result"
    }
   ],
   "source": [
    "warnings.filterwarnings('ignore')\n",
    "\n",
    "alpha = 0.7\n",
    "night_image = turn_day_to_night(grainger_image, alpha)\n",
    "cv2.imwrite(\"night_final.png\", night_image)"
   ]
  },
  {
   "cell_type": "markdown",
   "metadata": {},
   "source": [
    "Sources used:\n",
    "https://stackoverflow.com/questions/72888224/image-looks-overexposed-nearly-all-white-when-using-np-zeros-with-opencv-imsho\n",
    "\n",
    "Papers referenced:\n",
    "https://jamesferwerda.com/wp-content/uploads/2015/06/j09_thompson02_jgt.pdf"
   ]
  }
 ],
 "metadata": {
  "kernelspec": {
   "display_name": "Python 3",
   "language": "python",
   "name": "python3"
  },
  "language_info": {
   "codemirror_mode": {
    "name": "ipython",
    "version": 3
   },
   "file_extension": ".py",
   "mimetype": "text/x-python",
   "name": "python",
   "nbconvert_exporter": "python",
   "pygments_lexer": "ipython3",
   "version": "3.12.0"
  }
 },
 "nbformat": 4,
 "nbformat_minor": 2
}
