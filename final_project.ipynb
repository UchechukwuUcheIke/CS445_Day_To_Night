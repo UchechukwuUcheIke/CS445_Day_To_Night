{
 "cells": [
  {
   "cell_type": "code",
   "execution_count": 2,
   "metadata": {},
   "outputs": [],
   "source": [
    "import numpy as np\n",
    "#from imageio import imread, imwrite\n",
    "import cv2"
   ]
  },
  {
   "cell_type": "markdown",
   "metadata": {},
   "source": [
    "## Preparation\n"
   ]
  },
  {
   "cell_type": "code",
   "execution_count": 3,
   "metadata": {},
   "outputs": [],
   "source": [
    "grainger_image = cv2.imread('grainger.jpg')"
   ]
  },
  {
   "cell_type": "markdown",
   "metadata": {},
   "source": [
    "## Naive Method: Increase blue channel"
   ]
  },
  {
   "cell_type": "code",
   "execution_count": 4,
   "metadata": {},
   "outputs": [
    {
     "data": {
      "text/plain": [
       "True"
      ]
     },
     "execution_count": 4,
     "metadata": {},
     "output_type": "execute_result"
    }
   ],
   "source": [
    "arr = grainger_image * np.array([0.5, 0.2, 0.1])\n",
    "arr2 = (255 * arr/arr.max()).astype(np.uint8)\n",
    "\n",
    "gamma = 2\n",
    "gamma_img = np.array(255 * (arr2/255) ** gamma, dtype=\"uint8\")\n",
    "#window_name = 'image'\n",
    "#cv2.imshow(window_name, gamma_img)\n",
    "cv2.imwrite(\"night_final.png\", gamma_img)"
   ]
  },
  {
   "cell_type": "markdown",
   "metadata": {},
   "source": [
    "## Intermediate Method"
   ]
  },
  {
   "cell_type": "code",
   "execution_count": 53,
   "metadata": {},
   "outputs": [],
   "source": [
    "def turn_day_to_night(image):\n",
    "    '''\n",
    "    Intermediate method looks to increase the contrast of an image\n",
    "    Decrease brightness\n",
    "    Decrease saturation\n",
    "    Increase blue-tint of image\n",
    "    Add noise to image\n",
    "    Increase contrast\n",
    "    '''\n",
    "    image_width, image_height, color_channels = image.shape\n",
    "\n",
    "    # Convert image to YUV color space and decrease brightness by half\n",
    "    yuv_image = cv2.cvtColor(image, cv2.COLOR_BGR2YUV)\n",
    "    yuv_image[:,:,0] = np.clip(yuv_image[:,:,0] * 0.5, 0, 255) \n",
    "    bgr_image = cv2.cvtColor(yuv_image, cv2.COLOR_YUV2BGR)\n",
    "\n",
    "    \n",
    "    # Convert image to HSV color space and decrease warmth\n",
    "    bgr_image[:,:,0] = bgr_image[:,:,0] + 30\n",
    "    hsv_image = cv2.cvtColor(bgr_image, cv2.COLOR_BGR2HSV)\n",
    "    hsv_image[:, :, 1] = hsv_image[:, :, 1] * 0.8\n",
    "    bgr_image = cv2.cvtColor(hsv_image, cv2.COLOR_HSV2BGR)\n",
    "    \n",
    "    # Adjust contrast\n",
    "    bgr_image = cv2.convertScaleAbs(bgr_image, alpha=0.8, beta=0)\n",
    "\n",
    "    #Adding noise to image\n",
    "    noise_filter = np.zeros((image_width, image_height, color_channels), np.uint8)\n",
    "    cv2.randu(noise_filter,(0),(10))\n",
    "    \n",
    "    result_image = bgr_image + noise_filter\n",
    "\n",
    "    return result_image"
   ]
  },
  {
   "cell_type": "code",
   "execution_count": 54,
   "metadata": {},
   "outputs": [
    {
     "data": {
      "text/plain": [
       "True"
      ]
     },
     "execution_count": 54,
     "metadata": {},
     "output_type": "execute_result"
    }
   ],
   "source": [
    "night_image = turn_day_to_night(grainger_image)\n",
    "cv2.imwrite(\"night_final.png\", night_image)"
   ]
  }
 ],
 "metadata": {
  "kernelspec": {
   "display_name": "Python 3",
   "language": "python",
   "name": "python3"
  },
  "language_info": {
   "codemirror_mode": {
    "name": "ipython",
    "version": 3
   },
   "file_extension": ".py",
   "mimetype": "text/x-python",
   "name": "python",
   "nbconvert_exporter": "python",
   "pygments_lexer": "ipython3",
   "version": "3.12.0"
  }
 },
 "nbformat": 4,
 "nbformat_minor": 2
}
