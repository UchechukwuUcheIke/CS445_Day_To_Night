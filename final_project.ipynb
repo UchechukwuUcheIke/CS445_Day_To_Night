{
 "cells": [
  {
   "cell_type": "code",
   "execution_count": 3,
   "metadata": {},
   "outputs": [],
   "source": [
    "import numpy as np\n",
    "#from imageio import imread, imwrite\n",
    "import cv2"
   ]
  },
  {
   "cell_type": "markdown",
   "metadata": {},
   "source": [
    "## Preparation\n"
   ]
  },
  {
   "cell_type": "code",
   "execution_count": 98,
   "metadata": {},
   "outputs": [],
   "source": [
    "grainger_image = cv2.imread('grainger.jpg').astype(np.uint8)"
   ]
  },
  {
   "cell_type": "markdown",
   "metadata": {},
   "source": [
    "## Naive Method: Increase blue channel"
   ]
  },
  {
   "cell_type": "code",
   "execution_count": 4,
   "metadata": {},
   "outputs": [
    {
     "data": {
      "text/plain": [
       "True"
      ]
     },
     "execution_count": 4,
     "metadata": {},
     "output_type": "execute_result"
    }
   ],
   "source": [
    "arr = grainger_image * np.array([0.5, 0.2, 0.1])\n",
    "arr2 = (255 * arr/arr.max()).astype(np.uint8)\n",
    "\n",
    "gamma = 2\n",
    "gamma_img = np.array(255 * (arr2/255) ** gamma, dtype=\"uint8\")\n",
    "#window_name = 'image'\n",
    "#cv2.imshow(window_name, gamma_img)\n",
    "cv2.imwrite(\"night_final.png\", gamma_img)"
   ]
  },
  {
   "cell_type": "markdown",
   "metadata": {},
   "source": [
    "## Intermediate Method"
   ]
  },
  {
   "cell_type": "code",
   "execution_count": 177,
   "metadata": {},
   "outputs": [],
   "source": [
    "def turn_day_to_night(image):\n",
    "    '''\n",
    "    Intermediate method looks to increase the contrast of an image\n",
    "    Decrease brightness\n",
    "    Decrease saturation\n",
    "    Increase blue-tint of image\n",
    "    Add noise to image\n",
    "    Increase contrast\n",
    "    '''\n",
    "    image_width, image_height, color_channels = image.shape\n",
    "\n",
    "    # Convert image to YUV color space and decrease brightness by half\n",
    "    yuv_image = cv2.cvtColor(image, cv2.COLOR_BGR2YUV)\n",
    "    yuv_image[:,:,0] = np.clip(yuv_image[:,:,0] * 0.5, 0, 255) \n",
    "    bgr_image = cv2.cvtColor(yuv_image, cv2.COLOR_YUV2BGR)\n",
    "\n",
    "    \n",
    "    # Convert image to HSV color space and decrease warmth\n",
    "    bgr_image[:,:,0] = bgr_image[:,:,0] + 30\n",
    "    hsv_image = cv2.cvtColor(bgr_image, cv2.COLOR_BGR2HSV)\n",
    "    hsv_image[:, :, 1] = hsv_image[:, :, 1] * 0.8\n",
    "    bgr_image = cv2.cvtColor(hsv_image, cv2.COLOR_HSV2BGR)\n",
    "    \n",
    "    # Adjust contrast\n",
    "    bgr_image = cv2.convertScaleAbs(bgr_image, alpha=0.8, beta=0)\n",
    "\n",
    "    #Adding noise to image\n",
    "    noise_filter = np.zeros((image_width, image_height, color_channels), np.uint8)\n",
    "    cv2.randu(noise_filter,(0),(10))\n",
    "    \n",
    "    result_image = bgr_image + noise_filter\n",
    "\n",
    "    return result_image"
   ]
  },
  {
   "cell_type": "code",
   "execution_count": 178,
   "metadata": {},
   "outputs": [
    {
     "data": {
      "text/plain": [
       "True"
      ]
     },
     "execution_count": 178,
     "metadata": {},
     "output_type": "execute_result"
    }
   ],
   "source": [
    "night_image = turn_day_to_night(grainger_image)\n",
    "cv2.imwrite(\"night_final.png\", night_image)"
   ]
  },
  {
   "cell_type": "code",
   "execution_count": 191,
   "metadata": {},
   "outputs": [],
   "source": [
    "def super_turn_day_to_night(image, alpha):\n",
    "    image_width, image_height, color_channels = image.shape\n",
    "    # Convert image to XYZ color space\n",
    "    xyz_image = cv2.cvtColor(image, cv2.COLOR_BGR2XYZ)\n",
    "\n",
    "    # For the Scotopic Luminance of the image\n",
    "    x = xyz_image[:,:,0]\n",
    "    y = xyz_image[:,:,1]\n",
    "    z = xyz_image[:,:,2]\n",
    "    scotopic_luminance = y * (1.33 * (1 + (y + z)/x) - 1.68)\n",
    "    scotopic_luminance = np.clip(np.nan_to_num(scotopic_luminance), 0, 255).astype(np.uint8)\n",
    "\n",
    "    # Create a\n",
    "    scotopic_lum_img = np.zeros((image_width, image_height, color_channels)).astype(np.uint8)\n",
    "    blue = np.array([.9, .5, .5]).astype(np.float64)\n",
    "    k = 5\n",
    "    for c in range(color_channels):\n",
    "        scotopic_lum_img[:,:,c] = scotopic_luminance * blue[c] * k\n",
    "\n",
    "    # Blend original and scotopic images pixel by pixel\n",
    "    result_image = image * (1 - alpha) + scotopic_lum_img * alpha\n",
    "    return result_image\n",
    "    "
   ]
  },
  {
   "cell_type": "code",
   "execution_count": 192,
   "metadata": {},
   "outputs": [
    {
     "name": "stderr",
     "output_type": "stream",
     "text": [
      "C:\\Users\\uchei\\AppData\\Local\\Temp\\ipykernel_29376\\1014319905.py:10: RuntimeWarning: divide by zero encountered in divide\n",
      "  scotopic_luminance = y * (1.33 * (1 + (y + z)/x) - 1.68)\n",
      "C:\\Users\\uchei\\AppData\\Local\\Temp\\ipykernel_29376\\1014319905.py:10: RuntimeWarning: invalid value encountered in divide\n",
      "  scotopic_luminance = y * (1.33 * (1 + (y + z)/x) - 1.68)\n",
      "C:\\Users\\uchei\\AppData\\Local\\Temp\\ipykernel_29376\\1014319905.py:10: RuntimeWarning: invalid value encountered in multiply\n",
      "  scotopic_luminance = y * (1.33 * (1 + (y + z)/x) - 1.68)\n"
     ]
    },
    {
     "name": "stdout",
     "output_type": "stream",
     "text": [
      "[[[ 74.4 105.2 104. ]\n",
      "  [ 74.4 105.2 104. ]\n",
      "  [ 74.4 105.2 104. ]\n",
      "  ...\n",
      "  [147.6 149.2 149.2]\n",
      "  [147.6 149.2 149.2]\n",
      "  [147.6 149.2 149.2]]\n",
      "\n",
      " [[ 74.4 105.2 104. ]\n",
      "  [ 74.4 105.2 104. ]\n",
      "  [ 74.4 105.2 104. ]\n",
      "  ...\n",
      "  [147.6 149.2 149.2]\n",
      "  [147.6 149.2 149.2]\n",
      "  [147.6 149.2 149.2]]\n",
      "\n",
      " [[ 74.4 105.2 104. ]\n",
      "  [ 74.4 105.2 104. ]\n",
      "  [ 74.4 105.2 104. ]\n",
      "  ...\n",
      "  [147.6 149.2 149.2]\n",
      "  [147.6 149.2 149.2]\n",
      "  [147.6 149.2 149.2]]\n",
      "\n",
      " ...\n",
      "\n",
      " [[130.2 222.8 221. ]\n",
      "  [118.8 216.2 214.4]\n",
      "  [166.  127.4 125.6]\n",
      "  ...\n",
      "  [115.6 214.4 211.8]\n",
      "  [ 27.2 164.8 162.4]\n",
      "  [ 77.6  77.8  75. ]]\n",
      "\n",
      " [[111.4 212.  210.2]\n",
      "  [139.8 112.4 110.6]\n",
      "  [173.4 131.6 129.8]\n",
      "  ...\n",
      "  [210.  152.2 149. ]\n",
      "  [180.4 135.8 133. ]\n",
      "  [151.  119.2 116. ]]\n",
      "\n",
      " [[137.6  22.2  20.4]\n",
      "  [132.4 108.2 106.4]\n",
      "  [111.4 212.  210.2]\n",
      "  ...\n",
      "  [117.6  99.8  96.6]\n",
      "  [117.6  99.8  96.6]\n",
      "  [ 12.2 156.4 153.2]]]\n"
     ]
    }
   ],
   "source": [
    "night_image = super_turn_day_to_night(grainger_image, .8)\n",
    "cv2.imwrite(\"night_final.png\", night_image)\n",
    "print(night_image)"
   ]
  },
  {
   "cell_type": "markdown",
   "metadata": {},
   "source": [
    "Sources used:\n",
    "https://stackoverflow.com/questions/72888224/image-looks-overexposed-nearly-all-white-when-using-np-zeros-with-opencv-imsho"
   ]
  }
 ],
 "metadata": {
  "kernelspec": {
   "display_name": "Python 3",
   "language": "python",
   "name": "python3"
  },
  "language_info": {
   "codemirror_mode": {
    "name": "ipython",
    "version": 3
   },
   "file_extension": ".py",
   "mimetype": "text/x-python",
   "name": "python",
   "nbconvert_exporter": "python",
   "pygments_lexer": "ipython3",
   "version": "3.12.0"
  }
 },
 "nbformat": 4,
 "nbformat_minor": 2
}
