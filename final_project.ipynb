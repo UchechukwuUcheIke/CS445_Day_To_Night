{
 "cells": [
  {
   "cell_type": "code",
   "execution_count": 108,
   "metadata": {},
   "outputs": [],
   "source": [
    "import numpy as np\n",
    "#from imageio import imread, imwrite\n",
    "import cv2\n",
    "# from matplotlib,pyplot as plt # not working for me"
   ]
  },
  {
   "cell_type": "markdown",
   "metadata": {},
   "source": [
    "## Naive Method: Increase blue channel"
   ]
  },
  {
   "cell_type": "code",
   "execution_count": 109,
   "metadata": {},
   "outputs": [
    {
     "data": {
      "text/plain": [
       "True"
      ]
     },
     "execution_count": 109,
     "metadata": {},
     "output_type": "execute_result"
    }
   ],
   "source": [
    "image = cv2.imread('grainger.jpg')\n",
    "\n",
    "arr = image * np.array([0.5, 0.2, 0.1])\n",
    "arr2 = (255 * arr/arr.max()).astype(np.uint8)\n",
    "\n",
    "gamma = 2\n",
    "gamma_img = np.array(255 * (arr2/255) ** gamma, dtype=\"uint8\")\n",
    "cv2.imwrite(\"night_final.png\", gamma_img)"
   ]
  },
  {
   "cell_type": "markdown",
   "metadata": {},
   "source": [
    "## Advanced Method: Remove illumination, decrease exposure, relight with night illuminants, and add noise"
   ]
  },
  {
   "cell_type": "markdown",
   "metadata": {},
   "source": [
    "### Remove illumination"
   ]
  },
  {
   "cell_type": "markdown",
   "metadata": {},
   "source": [
    "Stacked RGGB Bayer image:\n",
    "$$ \\mathbf{I}_{day} \\in R^{\\frac{H}{2} \\times \\frac{W}{2} \\times 4} $$"
   ]
  },
  {
   "cell_type": "code",
   "execution_count": 110,
   "metadata": {},
   "outputs": [
    {
     "name": "stdout",
     "output_type": "stream",
     "text": [
      "(1200, 1800, 4)\n",
      "[[[240. 226. 226. 220.]\n",
      "  [240. 226. 226. 220.]\n",
      "  [240. 226. 226. 220.]\n",
      "  ...\n",
      "  [246. 246. 246. 246.]\n",
      "  [246. 246. 246. 246.]\n",
      "  [246. 246. 246. 246.]]\n",
      "\n",
      " [[240. 226. 226. 220.]\n",
      "  [240. 226. 226. 220.]\n",
      "  [240. 226. 226. 220.]\n",
      "  ...\n",
      "  [246. 246. 246. 246.]\n",
      "  [246. 246. 246. 246.]\n",
      "  [246. 246. 246. 246.]]\n",
      "\n",
      " [[240. 226. 226. 220.]\n",
      "  [240. 226. 226. 220.]\n",
      "  [240. 226. 226. 220.]\n",
      "  ...\n",
      "  [246. 246. 246. 246.]\n",
      "  [246. 246. 246. 246.]\n",
      "  [246. 246. 246. 246.]]\n",
      "\n",
      " ...\n",
      "\n",
      " [[ 51.  98.  98.  89.]\n",
      "  [ 50.  97.  97.  88.]\n",
      "  [ 34.  81.  81.  72.]\n",
      "  ...\n",
      "  [ 50.  96.  96.  83.]\n",
      "  [ 40.  88.  88.  76.]\n",
      "  [ 24.  73.  73.  59.]]\n",
      "\n",
      " [[ 49.  96.  96.  87.]\n",
      "  [ 31.  78.  78.  69.]\n",
      "  [ 35.  82.  82.  73.]\n",
      "  ...\n",
      "  [ 38.  85.  85.  69.]\n",
      "  [ 34.  83.  83.  69.]\n",
      "  [ 31.  80.  80.  64.]]\n",
      "\n",
      " [[ 52.  99.  99.  90.]\n",
      "  [ 30.  77.  77.  68.]\n",
      "  [ 49.  96.  96.  87.]\n",
      "  ...\n",
      "  [ 28.  75.  75.  59.]\n",
      "  [ 28.  75.  75.  59.]\n",
      "  [ 37.  86.  86.  70.]]]\n"
     ]
    }
   ],
   "source": [
    "img = cv2.imread('grainger.jpg')\n",
    "n_channels = 4\n",
    "I_day = np.zeros((img.shape[0], img.shape[1], n_channels))\n",
    "I_day[:,:,0] = img[:,:,0]\n",
    "I_day[:,:,1] = img[:,:,1]\n",
    "I_day[:,:,2] = img[:,:,1].copy()\n",
    "I_day[:,:,3] = img[:,:,2]\n",
    "print(I_day.shape)\n",
    "print(I_day)\n"
   ]
  },
  {
   "cell_type": "code",
   "execution_count": 111,
   "metadata": {},
   "outputs": [],
   "source": [
    "# The process begins with a \"minimally processed Bayer image recorded by the camera sensor\".\n",
    "# We could synthesize the effect of a raw Bayer image with the code below,\n",
    "# then interpolate the pixel values (or downsample, but I suppose it's arbitrary). This is why I think their I_day is H/2 x W/2\n",
    "# OR this may all be useless and we should just contain with the normal rgb image turned into rggb\n",
    "\n",
    "# Created with the help of ChatGPT.\n",
    "# def apply_bayer_pattern(image):\n",
    "#     print(image.shape)\n",
    "#     # Create a blank Bayer pattern image with the same dimensions as the RGB image\n",
    "#     # bayer_image = np.zeros(image.shape * 2)\n",
    "\n",
    "#     new_height, new_width = image.shape[0] * 2, image.shape[1] * 2\n",
    "#     bayer = np.zeros((new_height, new_width))\n",
    "#     bayer[0::2, 0::2] = image[:, :, 0]\n",
    "#     bayer[0::2, 1::2] = image[:, :, 1]\n",
    "#     bayer[1::2, 0::2] = image[:, :, 1]\n",
    "#     bayer[1::2, 1::2] = image[:, :, 2]\n",
    "\n",
    "#     return bayer\n",
    "\n",
    "# I_day = apply_bayer_pattern(img)\n",
    "# cv2.imwrite('bayer_image.jpg', I_day)\n"
   ]
  },
  {
   "cell_type": "markdown",
   "metadata": {},
   "source": [
    "Normalized image:\n",
    "$$ \\mathbf{I}_n = (\\mathbf{I}_{day}-b_l) / (w_l-b_l) $$"
   ]
  },
  {
   "cell_type": "code",
   "execution_count": 112,
   "metadata": {},
   "outputs": [
    {
     "data": {
      "text/plain": [
       "True"
      ]
     },
     "execution_count": 112,
     "metadata": {},
     "output_type": "execute_result"
    }
   ],
   "source": [
    "# wl = np.mean(np.max(img, axis=(0,1)))\n",
    "# bl = np.mean(np.min(img, axis=(0,1)))\n",
    "wl = np.max(I_day)\n",
    "bl = np.min(I_day)\n",
    "\n",
    "I_n = (I_day - bl) / (wl - bl)\n",
    "cv2.imwrite('I_n.jpg', I_n * 255)\n"
   ]
  },
  {
   "cell_type": "markdown",
   "metadata": {},
   "source": [
    "White-balanced image:\n",
    "$$ \\mathbf{I}_w = \\mathbf{I}_n\\mathbf{L}_{day} $$\n",
    "where\n",
    "$$ {L}_{day} = diag(\\frac{1}{b}, \\frac{1}{g}, \\frac{1}{r}) $$"
   ]
  },
  {
   "cell_type": "code",
   "execution_count": 113,
   "metadata": {},
   "outputs": [
    {
     "data": {
      "text/plain": [
       "True"
      ]
     },
     "execution_count": 113,
     "metadata": {},
     "output_type": "execute_result"
    }
   ],
   "source": [
    "L_day = np.identity(I_n.shape[-1])\n",
    "I_n_avg = np.mean(I_n, axis=(0, 1))\n",
    "for i in range(L_day.shape[1]):\n",
    "    L_day[i, i] = 1 / I_n_avg[i]\n",
    "\n",
    "I_w = I_n @ L_day\n",
    "cv2.imwrite('I_w.jpg', I_w * 255)\n",
    "\n",
    "# We might just have to come up with some values for r, g, b to be the average shift of intensities to color balance to neutral\n",
    "# Or create a simple algorithm"
   ]
  },
  {
   "cell_type": "markdown",
   "metadata": {},
   "source": [
    "### Lowering brightness"
   ]
  },
  {
   "cell_type": "markdown",
   "metadata": {},
   "source": [
    "`D`: dictionary for the normalized mean intensity value of each Bayer image\n",
    "(could just make list with index as key for the image)"
   ]
  },
  {
   "cell_type": "code",
   "execution_count": 114,
   "metadata": {},
   "outputs": [
    {
     "name": "stdout",
     "output_type": "stream",
     "text": [
      "(1, 1200, 1800, 4)\n",
      "0.5865332874909223\n"
     ]
    }
   ],
   "source": [
    "# I believe bayer_images should have a few nighttime images, which would make D have normalized means of random nighttime photos\n",
    "bayer_images = np.array([I_day])\n",
    "print(bayer_images.shape)\n",
    "\n",
    "# contains normalized mean intensity values of each Bayer image\n",
    "D = np.array([np.mean(img) / np.max(img) for img in bayer_images])\n",
    "\n",
    "global_scale_factor_d = np.random.choice(D)\n",
    "print(global_scale_factor_d)\n",
    "\n",
    "I_e = I_w * global_scale_factor_d\n"
   ]
  },
  {
   "cell_type": "markdown",
   "metadata": {},
   "source": [
    "### Adding illuminants"
   ]
  },
  {
   "cell_type": "markdown",
   "metadata": {},
   "source": [
    "`L`: dictionary for nighttime illuminants"
   ]
  },
  {
   "cell_type": "code",
   "execution_count": 115,
   "metadata": {},
   "outputs": [
    {
     "name": "stdout",
     "output_type": "stream",
     "text": [
      "(5, 2)\n",
      "[4.23796389e-06 9.79316087e-06] (2,)\n",
      "[[9.67166836e-12 2.08681963e-12]\n",
      " [2.08681963e-12 5.85150446e-11]] (2, 2)\n"
     ]
    }
   ],
   "source": [
    "# Make a few samples of nighttime illuminants\n",
    "\n",
    "# Number of nighttime illuminants\n",
    "M = 5\n",
    "\n",
    "# Create 5 dummy illuminants\n",
    "illuminants = np.random.rand(M * np.prod(I_e.shape)).reshape((M,) + I_e.shape)\n",
    "\n",
    "chromaticity_pairs = []\n",
    "for illum in illuminants:\n",
    "    # Joint chromaticity values, normalized\n",
    "    rg = illum[:,:,0] / illum[:,:,1]\n",
    "    rg = (rg - np.min(rg)) / np.max(rg)\n",
    "    gb = illum[:,:,-2] / illum[:,:,-1]\n",
    "    gb = (gb - np.min(gb)) / np.max(gb)\n",
    "\n",
    "    # chromaticity_pairs.append((rg, gb))\n",
    "    chromaticity_pairs.append((np.mean(rg), np.mean(gb)))\n",
    "\n",
    "chromaticity_pairs = np.array(chromaticity_pairs)\n",
    "print(chromaticity_pairs.shape)\n",
    "\n",
    "# Mean of normalized chromaticity values in L\n",
    "# mu = np.mean(chromaticity_pairs, axis=(0, 2, 3))\n",
    "mu = np.mean(chromaticity_pairs, axis=0)\n",
    "print(mu, mu.shape)\n",
    "\n",
    "# Covariance of normalized chromaticity values in L\n",
    "# sigma = np.cov()\n",
    "sigma = np.zeros((mu.shape[0], mu.shape[0]))\n",
    "for pair in chromaticity_pairs:\n",
    "    sigma += np.outer((pair - mu).T, pair - mu)\n",
    "sigma /= M\n",
    "print(sigma, sigma.shape)"
   ]
  },
  {
   "cell_type": "markdown",
   "metadata": {},
   "source": []
  },
  {
   "cell_type": "code",
   "execution_count": null,
   "metadata": {},
   "outputs": [],
   "source": []
  },
  {
   "cell_type": "markdown",
   "metadata": {},
   "source": [
    "### Adding noise"
   ]
  },
  {
   "cell_type": "markdown",
   "metadata": {},
   "source": [
    "### Final Result"
   ]
  }
 ],
 "metadata": {
  "kernelspec": {
   "display_name": "Python 3",
   "language": "python",
   "name": "python3"
  },
  "language_info": {
   "codemirror_mode": {
    "name": "ipython",
    "version": 3
   },
   "file_extension": ".py",
   "mimetype": "text/x-python",
   "name": "python",
   "nbconvert_exporter": "python",
   "pygments_lexer": "ipython3",
   "version": "3.11.9"
  }
 },
 "nbformat": 4,
 "nbformat_minor": 2
}
